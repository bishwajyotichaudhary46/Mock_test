{
 "cells": [
  {
   "cell_type": "markdown",
   "id": "e5c3a98f",
   "metadata": {},
   "source": [
    "# Write a function that takes a list of numbers as input and returns a new list containing only the even numbers from the input list. Use list comprehension to solve this problem."
   ]
  },
  {
   "cell_type": "markdown",
   "id": "d46b87be",
   "metadata": {},
   "source": [
    "Example:\n",
    "\n",
    "Input: [1, 2, 3, 4, 5, 6, 7, 8, 9, 10]\n",
    "\n",
    "Output: [2, 4, 6, 8, 10]"
   ]
  },
  {
   "cell_type": "code",
   "execution_count": 1,
   "id": "aab16065",
   "metadata": {},
   "outputs": [],
   "source": [
    "def check_even(lst):\n",
    "    even_lst = [x for x in lst if x%2 == 0]\n",
    "    return  even_lst"
   ]
  },
  {
   "cell_type": "code",
   "execution_count": 2,
   "id": "3bac1129",
   "metadata": {},
   "outputs": [
    {
     "data": {
      "text/plain": [
       "[2, 4, 6, 8, 10]"
      ]
     },
     "execution_count": 2,
     "metadata": {},
     "output_type": "execute_result"
    }
   ],
   "source": [
    "lst = [1, 2, 3, 4, 5, 6, 7, 8, 9, 10]\n",
    "check_even(lst)"
   ]
  },
  {
   "cell_type": "code",
   "execution_count": null,
   "id": "79e27aa4",
   "metadata": {},
   "outputs": [],
   "source": []
  }
 ],
 "metadata": {
  "kernelspec": {
   "display_name": "Python 3 (ipykernel)",
   "language": "python",
   "name": "python3"
  },
  "language_info": {
   "codemirror_mode": {
    "name": "ipython",
    "version": 3
   },
   "file_extension": ".py",
   "mimetype": "text/x-python",
   "name": "python",
   "nbconvert_exporter": "python",
   "pygments_lexer": "ipython3",
   "version": "3.9.13"
  }
 },
 "nbformat": 4,
 "nbformat_minor": 5
}
